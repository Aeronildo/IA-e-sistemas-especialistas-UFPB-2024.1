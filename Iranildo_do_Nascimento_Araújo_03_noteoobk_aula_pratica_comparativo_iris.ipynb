{
  "nbformat": 4,
  "nbformat_minor": 0,
  "metadata": {
    "colab": {
      "provenance": []
    },
    "kernelspec": {
      "name": "python3",
      "display_name": "Python 3"
    }
  },
  "cells": [
    {
      "cell_type": "markdown",
      "metadata": {
        "id": "_i-DDRSeQbw2"
      },
      "source": [
        "# Exemplo Prático: Aprendizagem Supervisionada Classificação PARTE 1\n",
        "\n",
        "## Classificação de Flores Íris - Comparativo\n",
        "\n",
        "O objetivo nessa prática é apresentar um passo adiante considerando a primeira prática e mostrar duas funções muito importantes para o trainamento em aprendizagem de máquina. Elas são o 'cross-validation' e o 'comparativo de modelos'."
      ]
    },
    {
      "cell_type": "markdown",
      "metadata": {
        "id": "_LSmGBe_7X7t"
      },
      "source": [
        "<div>\n",
        "<img src=\"https://raw.githubusercontent.com/rafaelmm82/ufpb-ia-20201/master/03-aprendizagem_supervisionada_classificacao/03_aula_pratica_classificacao_iris_comparativo/01_cross_validation.png\", width=\"640\"/>\n",
        "<div/>"
      ]
    },
    {
      "cell_type": "markdown",
      "metadata": {
        "id": "LYvnD2lW_Ixh"
      },
      "source": [
        "# 1.1) Cross-validation\n",
        "\n",
        "Carregando e entendendo o conjunto de dados, criando um modelo e aplicando o cross-validation para checar o desempenho em cada sub-conjunto de dados.\n",
        "\n"
      ]
    },
    {
      "cell_type": "code",
      "metadata": {
        "id": "WZmXzDAMQUzi",
        "colab": {
          "base_uri": "https://localhost:8080/"
        },
        "outputId": "d0f6ba83-3814-47ca-83f6-117af2c8f87c"
      },
      "source": [
        "# Carregar e entender os dados\n",
        "\n",
        "# biblioteca para carregar e realizar operações tabulares\n",
        "import pandas as pd\n",
        "\n",
        "# biblioteca para plotar gráficos\n",
        "import matplotlib.pyplot as plt\n",
        "\n",
        "# dataset, arquivo com as amostras das medições das flores\n",
        "arquivo = 'https://raw.githubusercontent.com/rafaelmm82/ufpb-ia-20201/master/02-fundamentos_de_ia/02_aula_pratica_classificacao_iris/iris.csv'\n",
        "\n",
        "# carregando o conteúdo do arquivo em um objeto pandas.DataFrame\n",
        "# a partir do método de carregamento de arquivo read_csv\n",
        "# especificando que a primeira linha contém os nomes do cabeçalho\n",
        "dataset = pd.read_csv(arquivo, header=0)\n",
        "\n",
        "# exibindo a dimensão dos dados carregados (linhas, colunas)\n",
        "print(dataset.shape)"
      ],
      "execution_count": null,
      "outputs": [
        {
          "output_type": "stream",
          "name": "stdout",
          "text": [
            "(150, 5)\n"
          ]
        }
      ]
    },
    {
      "cell_type": "code",
      "metadata": {
        "id": "roxtBJYxVSLz",
        "colab": {
          "base_uri": "https://localhost:8080/"
        },
        "outputId": "570db989-3194-4347-9659-85a8f36e3adc"
      },
      "source": [
        "# para saber a quantidade dados por classe\n",
        "print(dataset.groupby('classe').size())"
      ],
      "execution_count": null,
      "outputs": [
        {
          "output_type": "stream",
          "name": "stdout",
          "text": [
            "classe\n",
            "Setosa        50\n",
            "Versicolor    50\n",
            "Virginica     50\n",
            "dtype: int64\n"
          ]
        }
      ]
    },
    {
      "cell_type": "code",
      "metadata": {
        "id": "S6GQqTYuU2t1",
        "colab": {
          "base_uri": "https://localhost:8080/"
        },
        "outputId": "9e156726-d6a4-4105-93dc-3a8cfbae9c4c"
      },
      "source": [
        "# Seprando os dados e Aplicando Cross-Validation\n",
        "from sklearn.model_selection import train_test_split\n",
        "from sklearn.model_selection import cross_val_score\n",
        "from sklearn.linear_model import LogisticRegression\n",
        "\n",
        "array = dataset.values\n",
        "X = array[:,0:4]\n",
        "y = array[:,4]\n",
        "\n",
        "# separação treino e validação\n",
        "X_train, X_validation, Y_train, Y_validation = train_test_split(X, y, test_size=0.20, random_state=1, shuffle=True)\n",
        "\n",
        "# criando o modelo e aplicando o cross_validation\n",
        "model = LogisticRegression(solver='liblinear', multi_class='ovr')\n",
        "cv_results = cross_val_score(model, X_train, Y_train, cv=5, scoring='accuracy')\n",
        "print('cv_results ', cv_results)"
      ],
      "execution_count": null,
      "outputs": [
        {
          "output_type": "stream",
          "name": "stdout",
          "text": [
            "cv_results  [0.875      0.91666667 1.         0.91666667 0.95833333]\n"
          ]
        },
        {
          "output_type": "stream",
          "name": "stderr",
          "text": [
            "/usr/local/lib/python3.10/dist-packages/sklearn/linear_model/_logistic.py:1256: FutureWarning: 'multi_class' was deprecated in version 1.5 and will be removed in 1.7. Use OneVsRestClassifier(LogisticRegression(..)) instead. Leave it to its default value to avoid this warning.\n",
            "  warnings.warn(\n",
            "/usr/local/lib/python3.10/dist-packages/sklearn/linear_model/_logistic.py:1256: FutureWarning: 'multi_class' was deprecated in version 1.5 and will be removed in 1.7. Use OneVsRestClassifier(LogisticRegression(..)) instead. Leave it to its default value to avoid this warning.\n",
            "  warnings.warn(\n",
            "/usr/local/lib/python3.10/dist-packages/sklearn/linear_model/_logistic.py:1256: FutureWarning: 'multi_class' was deprecated in version 1.5 and will be removed in 1.7. Use OneVsRestClassifier(LogisticRegression(..)) instead. Leave it to its default value to avoid this warning.\n",
            "  warnings.warn(\n",
            "/usr/local/lib/python3.10/dist-packages/sklearn/linear_model/_logistic.py:1256: FutureWarning: 'multi_class' was deprecated in version 1.5 and will be removed in 1.7. Use OneVsRestClassifier(LogisticRegression(..)) instead. Leave it to its default value to avoid this warning.\n",
            "  warnings.warn(\n",
            "/usr/local/lib/python3.10/dist-packages/sklearn/linear_model/_logistic.py:1256: FutureWarning: 'multi_class' was deprecated in version 1.5 and will be removed in 1.7. Use OneVsRestClassifier(LogisticRegression(..)) instead. Leave it to its default value to avoid this warning.\n",
            "  warnings.warn(\n"
          ]
        }
      ]
    },
    {
      "cell_type": "code",
      "source": [
        "cv_results.mean()"
      ],
      "metadata": {
        "id": "DoppJwQyzGI7",
        "colab": {
          "base_uri": "https://localhost:8080/"
        },
        "outputId": "11cd9ec5-c914-4e1d-f5e6-f9a4aca69ce5"
      },
      "execution_count": null,
      "outputs": [
        {
          "output_type": "execute_result",
          "data": {
            "text/plain": [
              "0.9333333333333332"
            ]
          },
          "metadata": {},
          "execution_count": 5
        }
      ]
    },
    {
      "cell_type": "code",
      "source": [
        "cv_results.std()"
      ],
      "metadata": {
        "id": "iUK2pN5kzSQy",
        "colab": {
          "base_uri": "https://localhost:8080/"
        },
        "outputId": "de6c91ad-b0fc-4098-c4bd-0f6182ef9680"
      },
      "execution_count": null,
      "outputs": [
        {
          "output_type": "execute_result",
          "data": {
            "text/plain": [
              "0.042491829279939886"
            ]
          },
          "metadata": {},
          "execution_count": 6
        }
      ]
    },
    {
      "cell_type": "code",
      "metadata": {
        "id": "9pa0g0WXQzp8",
        "colab": {
          "base_uri": "https://localhost:8080/"
        },
        "outputId": "27e6e8eb-c449-4e83-a920-d7894c236d9d"
      },
      "source": [
        "# exibindo os resultados individualmente\n",
        "print(f'{len(cv_results)} treinamentos realizados')\n",
        "\n",
        "# print por resultado\n",
        "for valor in cv_results:\n",
        "  print(f'resultado treino: {valor}')"
      ],
      "execution_count": null,
      "outputs": [
        {
          "output_type": "stream",
          "name": "stdout",
          "text": [
            "5 treinamentos realizados\n",
            "resultado treino: 0.875\n",
            "resultado treino: 0.9166666666666666\n",
            "resultado treino: 1.0\n",
            "resultado treino: 0.9166666666666666\n",
            "resultado treino: 0.9583333333333334\n"
          ]
        }
      ]
    },
    {
      "cell_type": "code",
      "metadata": {
        "id": "A2zASZz-R1se",
        "colab": {
          "base_uri": "https://localhost:8080/"
        },
        "outputId": "1011c44c-5063-4ab2-f51e-5768989a7e1f"
      },
      "source": [
        "# imprimindo a média e desvio padrão\n",
        "print(f'LR, média{cv_results.mean()} e desvio padrão {cv_results.std()}')"
      ],
      "execution_count": null,
      "outputs": [
        {
          "output_type": "stream",
          "name": "stdout",
          "text": [
            "LR, média0.9333333333333332 e desvio padrão 0.042491829279939886\n"
          ]
        }
      ]
    },
    {
      "cell_type": "markdown",
      "metadata": {
        "id": "HF9KF7ecTKjP"
      },
      "source": [
        "# 1.2) Garantindo a equivalência entre as classes:\n",
        "\n",
        "Usando o Stratified K-Fold (Cross-validation com extratifcação por classe)\n"
      ]
    },
    {
      "cell_type": "code",
      "metadata": {
        "id": "ZSIC_rNhTR54",
        "colab": {
          "base_uri": "https://localhost:8080/"
        },
        "outputId": "3e4f50d5-8363-45c7-f940-b7120d70f03f"
      },
      "source": [
        "# Seprando os dados e Aplicando Cross-Validation\n",
        "from sklearn.model_selection import train_test_split\n",
        "from sklearn.model_selection import cross_val_score\n",
        "from sklearn.model_selection import StratifiedKFold  # <-- aqui a diferença\n",
        "from sklearn.linear_model import LogisticRegression\n",
        "\n",
        "array = dataset.values\n",
        "X = array[:,0:4]\n",
        "y = array[:,4]\n",
        "\n",
        "# separação treino e validação\n",
        "X_train, X_validation, Y_train, Y_validation = train_test_split(X, y, test_size=0.20, random_state=1, shuffle=True)\n",
        "\n",
        "# cria o stratificado\n",
        "kfold = StratifiedKFold(n_splits=5, random_state=1, shuffle=True)  # <-- aqui a diferença\n",
        "\n",
        "# criando o modelo e aplicando o cross_validation\n",
        "model = LogisticRegression(solver='liblinear', multi_class='ovr')\n",
        "cv_results = cross_val_score(model, X_train, Y_train, cv=kfold, scoring='accuracy')  # <-- aqui a diferença\n",
        "print('cv_results ', cv_results)\n",
        "\n",
        "# exibindo os resultados individualmente\n",
        "print(f'{len(cv_results)} treinamentos realizados')\n",
        "\n",
        "# print por resultado\n",
        "for valor in cv_results:\n",
        "  print(f'resultado treino: {valor}')\n",
        "\n",
        "# imprimindo a média e desvio padrão\n",
        "print(f'LR, média{cv_results.mean()} e desvio padrão {cv_results.std()}')"
      ],
      "execution_count": null,
      "outputs": [
        {
          "output_type": "stream",
          "name": "stdout",
          "text": [
            "cv_results  [1.         0.95833333 0.875      0.91666667 0.95833333]\n",
            "5 treinamentos realizados\n",
            "resultado treino: 1.0\n",
            "resultado treino: 0.9583333333333334\n",
            "resultado treino: 0.875\n",
            "resultado treino: 0.9166666666666666\n",
            "resultado treino: 0.9583333333333334\n",
            "LR, média0.9416666666666667 e desvio padrão 0.042491829279939886\n"
          ]
        },
        {
          "output_type": "stream",
          "name": "stderr",
          "text": [
            "/usr/local/lib/python3.10/dist-packages/sklearn/linear_model/_logistic.py:1256: FutureWarning: 'multi_class' was deprecated in version 1.5 and will be removed in 1.7. Use OneVsRestClassifier(LogisticRegression(..)) instead. Leave it to its default value to avoid this warning.\n",
            "  warnings.warn(\n",
            "/usr/local/lib/python3.10/dist-packages/sklearn/linear_model/_logistic.py:1256: FutureWarning: 'multi_class' was deprecated in version 1.5 and will be removed in 1.7. Use OneVsRestClassifier(LogisticRegression(..)) instead. Leave it to its default value to avoid this warning.\n",
            "  warnings.warn(\n",
            "/usr/local/lib/python3.10/dist-packages/sklearn/linear_model/_logistic.py:1256: FutureWarning: 'multi_class' was deprecated in version 1.5 and will be removed in 1.7. Use OneVsRestClassifier(LogisticRegression(..)) instead. Leave it to its default value to avoid this warning.\n",
            "  warnings.warn(\n",
            "/usr/local/lib/python3.10/dist-packages/sklearn/linear_model/_logistic.py:1256: FutureWarning: 'multi_class' was deprecated in version 1.5 and will be removed in 1.7. Use OneVsRestClassifier(LogisticRegression(..)) instead. Leave it to its default value to avoid this warning.\n",
            "  warnings.warn(\n",
            "/usr/local/lib/python3.10/dist-packages/sklearn/linear_model/_logistic.py:1256: FutureWarning: 'multi_class' was deprecated in version 1.5 and will be removed in 1.7. Use OneVsRestClassifier(LogisticRegression(..)) instead. Leave it to its default value to avoid this warning.\n",
            "  warnings.warn(\n"
          ]
        }
      ]
    },
    {
      "cell_type": "markdown",
      "metadata": {
        "id": "mNtAUereYFJ4"
      },
      "source": [
        "# 2) Comparando Resultados\n",
        "\n",
        "Refazendo o procedimento, porém aplicando diferentes modelos para comparar seus resultados individuais.\n",
        "\n"
      ]
    },
    {
      "cell_type": "code",
      "metadata": {
        "id": "ahMjIO3UULdF"
      },
      "source": [
        "# carregando todos os modelos e funções necessárias\n",
        "from sklearn.model_selection import train_test_split\n",
        "from sklearn.model_selection import StratifiedKFold\n",
        "from sklearn.model_selection import cross_val_score\n",
        "\n",
        "# carregando os modelos\n",
        "from sklearn.linear_model import LogisticRegression\n",
        "from sklearn.tree import DecisionTreeClassifier\n",
        "from sklearn.neighbors import KNeighborsClassifier\n",
        "from sklearn.discriminant_analysis import LinearDiscriminantAnalysis\n",
        "from sklearn.naive_bayes import GaussianNB\n",
        "from sklearn.svm import SVC\n"
      ],
      "execution_count": null,
      "outputs": []
    },
    {
      "cell_type": "code",
      "metadata": {
        "id": "C2aHMAn9fwjD",
        "colab": {
          "base_uri": "https://localhost:8080/"
        },
        "outputId": "1fd88b64-bb20-4aa2-cd5d-2863c70a7e0a"
      },
      "source": [
        "# dividindo os conjuntos aleatoriamente\n",
        "X_train, X_validation, Y_train, Y_validation = train_test_split(X, y, test_size=0.20, random_state=1, shuffle=True)\n",
        "\n",
        "# criando os modelos e adicionando num vetor de tuplas pra facilitar o código\n",
        "models = []\n",
        "models.append(('LR', LogisticRegression(solver='liblinear', multi_class='ovr')))\n",
        "models.append(('KNN', KNeighborsClassifier()))\n",
        "models.append(('SVM', SVC(gamma='auto')))\n",
        "models.append(('CART', DecisionTreeClassifier()))\n",
        "models.append(('LDA', LinearDiscriminantAnalysis()))\n",
        "models.append(('NB', GaussianNB()))\n",
        "\n",
        "# avaliando cada um dos modelos utilizando cross-validation com stratified\n",
        "results = []\n",
        "names = []\n",
        "\n",
        "for name, model in models:\n",
        "\tkfold = StratifiedKFold(n_splits=5, random_state=1, shuffle=True)\n",
        "\tcv_results = cross_val_score(model, X_train, Y_train, cv=kfold, scoring='accuracy')\n",
        "\tresults.append(cv_results)\n",
        "\tnames.append(name)\n",
        "\tprint('modelo %s: média %f desvio(%f)' % (name, cv_results.mean(), cv_results.std()))"
      ],
      "execution_count": null,
      "outputs": [
        {
          "output_type": "stream",
          "name": "stdout",
          "text": [
            "modelo LR: média 0.941667 desvio(0.042492)\n",
            "modelo KNN: média 0.958333 desvio(0.045644)\n",
            "modelo SVM: média 0.983333 desvio(0.020412)\n",
            "modelo CART: média 0.966667 desvio(0.031180)\n",
            "modelo LDA: média 0.975000 desvio(0.020412)\n",
            "modelo NB: média 0.950000 desvio(0.031180)\n"
          ]
        },
        {
          "output_type": "stream",
          "name": "stderr",
          "text": [
            "/usr/local/lib/python3.10/dist-packages/sklearn/linear_model/_logistic.py:1256: FutureWarning: 'multi_class' was deprecated in version 1.5 and will be removed in 1.7. Use OneVsRestClassifier(LogisticRegression(..)) instead. Leave it to its default value to avoid this warning.\n",
            "  warnings.warn(\n",
            "/usr/local/lib/python3.10/dist-packages/sklearn/linear_model/_logistic.py:1256: FutureWarning: 'multi_class' was deprecated in version 1.5 and will be removed in 1.7. Use OneVsRestClassifier(LogisticRegression(..)) instead. Leave it to its default value to avoid this warning.\n",
            "  warnings.warn(\n",
            "/usr/local/lib/python3.10/dist-packages/sklearn/linear_model/_logistic.py:1256: FutureWarning: 'multi_class' was deprecated in version 1.5 and will be removed in 1.7. Use OneVsRestClassifier(LogisticRegression(..)) instead. Leave it to its default value to avoid this warning.\n",
            "  warnings.warn(\n",
            "/usr/local/lib/python3.10/dist-packages/sklearn/linear_model/_logistic.py:1256: FutureWarning: 'multi_class' was deprecated in version 1.5 and will be removed in 1.7. Use OneVsRestClassifier(LogisticRegression(..)) instead. Leave it to its default value to avoid this warning.\n",
            "  warnings.warn(\n",
            "/usr/local/lib/python3.10/dist-packages/sklearn/linear_model/_logistic.py:1256: FutureWarning: 'multi_class' was deprecated in version 1.5 and will be removed in 1.7. Use OneVsRestClassifier(LogisticRegression(..)) instead. Leave it to its default value to avoid this warning.\n",
            "  warnings.warn(\n"
          ]
        }
      ]
    },
    {
      "cell_type": "code",
      "metadata": {
        "id": "0rP27NROU2oj",
        "colab": {
          "base_uri": "https://localhost:8080/",
          "height": 452
        },
        "outputId": "42241609-4e62-4b17-f719-8c1464f8ef28"
      },
      "source": [
        "# Compare Algorithms\n",
        "plt.boxplot(results, labels=names)\n",
        "plt.title('Comparação dos Algoritmos')\n",
        "plt.show()"
      ],
      "execution_count": null,
      "outputs": [
        {
          "output_type": "display_data",
          "data": {
            "text/plain": [
              "<Figure size 640x480 with 1 Axes>"
            ],
            "image/png": "[encoded data removed]"
          },
          "metadata": {}
        }
      ]
    },
    {
      "cell_type": "code",
      "metadata": {
        "id": "dJYhgHz3VFnx",
        "colab": {
          "base_uri": "https://localhost:8080/"
        },
        "outputId": "5528b273-1e74-4ca2-c189-96b586ae98d1"
      },
      "source": [
        "# exibindo os resultados gerais\n",
        "for result in results:\n",
        "  print(result)"
      ],
      "execution_count": null,
      "outputs": [
        {
          "output_type": "stream",
          "name": "stdout",
          "text": [
            "[1.         0.95833333 0.875      0.91666667 0.95833333]\n",
            "[0.95833333 1.         0.875      1.         0.95833333]\n",
            "[1.         1.         0.95833333 1.         0.95833333]\n",
            "[1.         0.95833333 0.91666667 1.         0.95833333]\n",
            "[1.         0.95833333 0.95833333 1.         0.95833333]\n",
            "[0.95833333 0.95833333 0.91666667 1.         0.91666667]\n"
          ]
        }
      ]
    }
  ]
}