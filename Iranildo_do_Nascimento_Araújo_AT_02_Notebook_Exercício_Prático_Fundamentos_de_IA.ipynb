{
  "nbformat": 4,
  "nbformat_minor": 0,
  "metadata": {
    "colab": {
      "provenance": []
    },
    "kernelspec": {
      "name": "python3",
      "display_name": "Python 3"
    }
  },
  "cells": [
    {
      "cell_type": "markdown",
      "metadata": {
        "id": "U3QHK4xpMDa3"
      },
      "source": [
        "# IA - 2020.1 (Prof. Rafael Magalhães)\n",
        "## Turmas LCC e SI\n",
        "\n",
        "### Exercício Prático - Fundamentos de IA\n",
        "\n",
        "Classificação de Qualidade de Vinhos do tipo 'Tinto' (Arquivo fornecido junto com notebook - 'winequality-red.csv')"
      ]
    },
    {
      "cell_type": "markdown",
      "metadata": {
        "id": "x-KOAJouI2XV"
      },
      "source": [
        "Olá Pessoal,\n",
        "\n",
        "Ests prática de código tem três principais objetivos:\n",
        "\n",
        "- Recapitular alguns elementos da linguem Python (sintaxe, estrutura, etc.)\n",
        "- Conhecer algumas das bibliotecas mais utilizadas na área de IA e ML em Python\n",
        "- Captar o essencial do workflow (conjunto de etapas) para criação de 'modelos' de classificadores inteligentes.\n",
        "\n",
        "Para tanto, siga as instruções e conclua as etapas a seguir. Você é livre para buscar ajuda nas página oficiais de cada biblioteca se desejar.\n",
        "\n",
        "As Etapas que deverá realizar são:\n",
        "\n",
        "- Extração de Atributos\n",
        "- Divisão dos Dados\n",
        "- Treinamento do(s) Modelo(s)\n",
        "- Avaliação do(s) Modelo(s)"
      ]
    },
    {
      "cell_type": "markdown",
      "metadata": {
        "id": "nsN9Z_Q2JzTs"
      },
      "source": [
        "# 1 - Extração dos Atributos\n",
        "\n",
        "Você deverá:\n",
        "\n",
        "- 1.1 - carregar os dados de classificação de Vinhos Vermelhos utilizando o Pandas;\n",
        "- 1.2 - Avaliar minimamente algumas informações estatísticas do conjunto de dados;\n",
        "- 1.3 - Criar algumas visualizações dos dados, e, por fim;\n",
        "- 1.4 - Determinar o conjunto de dados (atributos) que serão utilizados para compor o 'dataset' para criar o modelo.\n"
      ]
    },
    {
      "cell_type": "code",
      "source": [
        "import pandas as pd\n",
        "from sklearn.model_selection import train_test_split\n",
        "from sklearn.tree import DecisionTreeRegressor\n",
        "\n",
        "# biblioteca para plotar gráficos\n",
        "import matplotlib.pyplot as plt"
      ],
      "metadata": {
        "id": "iphMybtPZcH9"
      },
      "execution_count": null,
      "outputs": []
    },
    {
      "cell_type": "code",
      "metadata": {
        "id": "wo990FnoGOHP",
        "colab": {
          "base_uri": "https://localhost:8080/"
        },
        "outputId": "00656968-96c8-449d-b76f-2b5ec85123de"
      },
      "source": [
        "# Seus códigos para a etapa 1 deverão ser criados aqui:\n",
        "arquivo = '/content/winequality-red.csv'\n",
        "\n",
        "# dica: lembre-se de pesquisar os argumentos do método read_csv do pandas,\n",
        "# especialmente o 'names' e o 'delimiter'\n",
        "dataset = pd.read_csv(arquivo, sep=\";\", header=0)\n",
        "\n",
        "# exibindo a dimensão dos dados carregados (linhas, colunas)\n",
        "print(dataset.shape)"
      ],
      "execution_count": null,
      "outputs": [
        {
          "output_type": "stream",
          "name": "stdout",
          "text": [
            "(1599, 12)\n"
          ]
        }
      ]
    },
    {
      "cell_type": "code",
      "source": [
        "# exibindo as 10 primeiras linhas de valores contidos no dataset\n",
        "print(dataset.head(10))\n",
        "\n",
        "# exibindo os 10 últimas linhas de valores do dataset\n",
        "print(dataset.tail(10))"
      ],
      "metadata": {
        "colab": {
          "base_uri": "https://localhost:8080/"
        },
        "id": "h5AOFdCzaGH2",
        "outputId": "7885e015-0ea4-4699-9b15-8b7ff24565dd"
      },
      "execution_count": null,
      "outputs": [
        {
          "output_type": "stream",
          "name": "stdout",
          "text": [
            "   fixed acidity  volatile acidity  citric acid  residual sugar  chlorides  \\\n",
            "0            7.4              0.70         0.00             1.9      0.076   \n",
            "1            7.8              0.88         0.00             2.6      0.098   \n",
            "2            7.8              0.76         0.04             2.3      0.092   \n",
            "3           11.2              0.28         0.56             1.9      0.075   \n",
            "4            7.4              0.70         0.00             1.9      0.076   \n",
            "5            7.4              0.66         0.00             1.8      0.075   \n",
            "6            7.9              0.60         0.06             1.6      0.069   \n",
            "7            7.3              0.65         0.00             1.2      0.065   \n",
            "8            7.8              0.58         0.02             2.0      0.073   \n",
            "9            7.5              0.50         0.36             6.1      0.071   \n",
            "\n",
            "   free sulfur dioxide  total sulfur dioxide  density    pH  sulphates  \\\n",
            "0                 11.0                  34.0   0.9978  3.51       0.56   \n",
            "1                 25.0                  67.0   0.9968  3.20       0.68   \n",
            "2                 15.0                  54.0   0.9970  3.26       0.65   \n",
            "3                 17.0                  60.0   0.9980  3.16       0.58   \n",
            "4                 11.0                  34.0   0.9978  3.51       0.56   \n",
            "5                 13.0                  40.0   0.9978  3.51       0.56   \n",
            "6                 15.0                  59.0   0.9964  3.30       0.46   \n",
            "7                 15.0                  21.0   0.9946  3.39       0.47   \n",
            "8                  9.0                  18.0   0.9968  3.36       0.57   \n",
            "9                 17.0                 102.0   0.9978  3.35       0.80   \n",
            "\n",
            "   alcohol  quality  \n",
            "0      9.4        5  \n",
            "1      9.8        5  \n",
            "2      9.8        5  \n",
            "3      9.8        6  \n",
            "4      9.4        5  \n",
            "5      9.4        5  \n",
            "6      9.4        5  \n",
            "7     10.0        7  \n",
            "8      9.5        7  \n",
            "9     10.5        5  \n",
            "      fixed acidity  volatile acidity  citric acid  residual sugar  chlorides  \\\n",
            "1589            6.6             0.725         0.20             7.8      0.073   \n",
            "1590            6.3             0.550         0.15             1.8      0.077   \n",
            "1591            5.4             0.740         0.09             1.7      0.089   \n",
            "1592            6.3             0.510         0.13             2.3      0.076   \n",
            "1593            6.8             0.620         0.08             1.9      0.068   \n",
            "1594            6.2             0.600         0.08             2.0      0.090   \n",
            "1595            5.9             0.550         0.10             2.2      0.062   \n",
            "1596            6.3             0.510         0.13             2.3      0.076   \n",
            "1597            5.9             0.645         0.12             2.0      0.075   \n",
            "1598            6.0             0.310         0.47             3.6      0.067   \n",
            "\n",
            "      free sulfur dioxide  total sulfur dioxide  density    pH  sulphates  \\\n",
            "1589                 29.0                  79.0  0.99770  3.29       0.54   \n",
            "1590                 26.0                  35.0  0.99314  3.32       0.82   \n",
            "1591                 16.0                  26.0  0.99402  3.67       0.56   \n",
            "1592                 29.0                  40.0  0.99574  3.42       0.75   \n",
            "1593                 28.0                  38.0  0.99651  3.42       0.82   \n",
            "1594                 32.0                  44.0  0.99490  3.45       0.58   \n",
            "1595                 39.0                  51.0  0.99512  3.52       0.76   \n",
            "1596                 29.0                  40.0  0.99574  3.42       0.75   \n",
            "1597                 32.0                  44.0  0.99547  3.57       0.71   \n",
            "1598                 18.0                  42.0  0.99549  3.39       0.66   \n",
            "\n",
            "      alcohol  quality  \n",
            "1589      9.2        5  \n",
            "1590     11.6        6  \n",
            "1591     11.6        6  \n",
            "1592     11.0        6  \n",
            "1593      9.5        6  \n",
            "1594     10.5        5  \n",
            "1595     11.2        6  \n",
            "1596     11.0        6  \n",
            "1597     10.2        5  \n",
            "1598     11.0        6  \n"
          ]
        }
      ]
    },
    {
      "cell_type": "code",
      "source": [
        "# Informações sobre as colunas\n",
        "print(dataset.info())\n",
        "\n",
        "# Verificando valores faltantes\n",
        "print(dataset.isnull().sum())"
      ],
      "metadata": {
        "colab": {
          "base_uri": "https://localhost:8080/"
        },
        "id": "XObSkhBZJxCv",
        "outputId": "2300daa1-3f9c-404a-bbc7-4d47f6ea305d"
      },
      "execution_count": null,
      "outputs": [
        {
          "output_type": "stream",
          "name": "stdout",
          "text": [
            "<class 'pandas.core.frame.DataFrame'>\n",
            "RangeIndex: 1599 entries, 0 to 1598\n",
            "Data columns (total 12 columns):\n",
            " #   Column                Non-Null Count  Dtype  \n",
            "---  ------                --------------  -----  \n",
            " 0   fixed acidity         1599 non-null   float64\n",
            " 1   volatile acidity      1599 non-null   float64\n",
            " 2   citric acid           1599 non-null   float64\n",
            " 3   residual sugar        1599 non-null   float64\n",
            " 4   chlorides             1599 non-null   float64\n",
            " 5   free sulfur dioxide   1599 non-null   float64\n",
            " 6   total sulfur dioxide  1599 non-null   float64\n",
            " 7   density               1599 non-null   float64\n",
            " 8   pH                    1599 non-null   float64\n",
            " 9   sulphates             1599 non-null   float64\n",
            " 10  alcohol               1599 non-null   float64\n",
            " 11  quality               1599 non-null   int64  \n",
            "dtypes: float64(11), int64(1)\n",
            "memory usage: 150.0 KB\n",
            "None\n",
            "fixed acidity           0\n",
            "volatile acidity        0\n",
            "citric acid             0\n",
            "residual sugar          0\n",
            "chlorides               0\n",
            "free sulfur dioxide     0\n",
            "total sulfur dioxide    0\n",
            "density                 0\n",
            "pH                      0\n",
            "sulphates               0\n",
            "alcohol                 0\n",
            "quality                 0\n",
            "dtype: int64\n"
          ]
        }
      ]
    },
    {
      "cell_type": "code",
      "source": [
        "print(dataset.groupby('quality').size())"
      ],
      "metadata": {
        "id": "DkhTSvAbaZZt",
        "outputId": "967e0cc3-eb6d-482b-e9f1-75d7b8acf2b9",
        "colab": {
          "base_uri": "https://localhost:8080/"
        }
      },
      "execution_count": null,
      "outputs": [
        {
          "output_type": "stream",
          "name": "stdout",
          "text": [
            "quality\n",
            "3     10\n",
            "4     53\n",
            "5    681\n",
            "6    638\n",
            "7    199\n",
            "8     18\n",
            "dtype: int64\n"
          ]
        }
      ]
    },
    {
      "cell_type": "code",
      "source": [
        "# Visualizando os dados\n",
        "# Histograma da qualidade do vinho\n",
        "plt.hist(dataset['quality'])\n",
        "plt.xlabel('Qualidade')\n",
        "plt.ylabel('Frequência')\n",
        "plt.title('Distribuição da Qualidade do Vinho')\n",
        "plt.show()"
      ],
      "metadata": {
        "colab": {
          "base_uri": "https://localhost:8080/",
          "height": 472
        },
        "id": "7rfm_7gBJNGz",
        "outputId": "518263f2-fae2-47e5-fe06-d4aa8b864e9d"
      },
      "execution_count": null,
      "outputs": [
        {
          "output_type": "display_data",
          "data": {
            "text/plain": [
              "<Figure size 640x480 with 1 Axes>"
            ],
            "image/png": "[encoded data removed]"
          },
          "metadata": {}
        }
      ]
    },
    {
      "cell_type": "markdown",
      "metadata": {
        "id": "eC2-SnCpLyVs"
      },
      "source": [
        "# 2 - Divisão dos Dados\n",
        "\n",
        "Usando a técina que você desejar, defina um critério para divisão dos dados e crie quatro variáveis:\n",
        "```\n",
        "X_train, X_test, y_train, y_test\n",
        "```\n",
        "cada um contendo os dados referentes às entradas e saídas de treinamento e etradas e saídas do dados de testes."
      ]
    },
    {
      "cell_type": "code",
      "metadata": {
        "id": "9U1C4B_FMVOi",
        "colab": {
          "base_uri": "https://localhost:8080/"
        },
        "outputId": "fac2cbad-5bba-44c6-e0dc-96c05b2a7e10"
      },
      "source": [
        "from sklearn.model_selection import train_test_split\n",
        "\n",
        "# Separar as variáveis independentes (X) e a variável dependente (y)\n",
        "X = dataset.drop('quality', axis=1)  # Todas as colunas exceto 'quality'\n",
        "y = dataset['quality']  # Somente a coluna 'quality'\n",
        "\n",
        "# Dividir o dataset em conjunto de treinamento e conjunto de teste\n",
        "X_train, X_test, y_train, y_test = train_test_split(X, y, test_size=0.2,  random_state=42,  stratify=y)\n",
        "\n",
        "# Exibir as dimensões dos conjuntos criados\n",
        "print(f\"Dimensão do conjunto de treinamento (X_train): {X_train.shape}\")\n",
        "print(f\"Dimensão do conjunto de teste (X_test): {X_test.shape}\")\n",
        "print(f\"Dimensão do vetor de treinamento (y_train): {y_train.shape}\")\n",
        "print(f\"Dimensão do vetor de teste (y_test): {y_test.shape}\")\n",
        "\n",
        "\n"
      ],
      "execution_count": null,
      "outputs": [
        {
          "output_type": "stream",
          "name": "stdout",
          "text": [
            "Dimensão do conjunto de treinamento (X_train): (1279, 11)\n",
            "Dimensão do conjunto de teste (X_test): (320, 11)\n",
            "Dimensão do vetor de treinamento (y_train): (1279,)\n",
            "Dimensão do vetor de teste (y_test): (320,)\n"
          ]
        }
      ]
    },
    {
      "cell_type": "markdown",
      "metadata": {
        "id": "sgDVCmPiM3Lv"
      },
      "source": [
        "# 3 - Treinamento do Modelo\n",
        "\n",
        "Na etapa de treinamento caberá a você escolher um modelo disponível na biblioteca scikit-learn (sklearn), dentre os vários. Instanciar um objeto, utilizar os dados de treinamento para ajustar o modelo (fit, treinar) e realizar alguns exemplos de predição."
      ]
    },
    {
      "cell_type": "code",
      "metadata": {
        "id": "zMglNvZDNScZ"
      },
      "source": [
        "# Seus códigos para a etapa 3 deverão ser criados aqui:\n",
        "\n",
        "# Dica: para evitar resultados inesperados, toda vez que alterar o conjunto\n",
        "# de dados é boa prática recriar o modelo.\n",
        "\n",
        "from sklearn.tree import DecisionTreeClassifier\n",
        "from sklearn.metrics import accuracy_score, classification_report, confusion_matrix\n",
        "\n",
        "# 1. Instanciar o modelo\n",
        "modelo_arvore = DecisionTreeClassifier(random_state=42)\n",
        "\n",
        "# 2. Treinar o modelo\n",
        "modelo_arvore.fit(X_train, y_train)\n",
        "\n",
        "# 3. Realizar previsões\n",
        "y_pred_arvore = modelo_arvore.predict(X_test)\n",
        "\n",
        "\n",
        "\n"
      ],
      "execution_count": null,
      "outputs": []
    },
    {
      "cell_type": "markdown",
      "metadata": {
        "id": "yp1Jy310NUn-"
      },
      "source": [
        "# 4 - Avaliação do Modelo\n",
        "\n",
        "Na quarta e última etapa você deverá utilizar alguma técnica de checagem da qualidade do resultado obtido, por exemplo o percentual de acertos, ou a matrix de validação, precisão, acurácia ou qualquer outra da sua escolha."
      ]
    },
    {
      "cell_type": "code",
      "metadata": {
        "id": "C7BUYPfNPqZD",
        "colab": {
          "base_uri": "https://localhost:8080/",
          "height": 1000
        },
        "outputId": "d2e6ecea-bbc5-436d-c1c6-b1b8c3f2f34e"
      },
      "source": [
        "# Seus códigos para a etapa 4 deverão ser criados aqui:\n",
        "from sklearn.metrics import mean_squared_error, r2_score\n",
        "\n",
        "# Calculando o MSE e R²\n",
        "mse = mean_squared_error(y_test, y_pred)\n",
        "r2 = r2_score(y_test, y_pred)\n",
        "\n",
        "print(\"MSE:\", mse)\n",
        "print(\"R²:\", r2)\n",
        "\n",
        "from sklearn.metrics import accuracy_score, classification_report, confusion_matrix, roc_curve, roc_auc_score\n",
        "import numpy as np\n",
        "import seaborn as sns\n",
        "\n",
        "# Avaliar o desempenho do modelo de Árvore de Decisão\n",
        "acuracia_arvore = accuracy_score(y_test, y_pred_arvore)\n",
        "relatorio_classificacao_arvore = classification_report(y_test, y_pred_arvore)\n",
        "matriz_confusao_arvore = confusion_matrix(y_test, y_pred_arvore)\n",
        "\n",
        "# Exibir a Acurácia\n",
        "print(f\"Acurácia do modelo de Árvore de Decisão: {acuracia_arvore:.2f}\")\n",
        "\n",
        "# Exibir o Relatório de Classificação\n",
        "print(\"\\nRelatório de Classificação da Árvore de Decisão:\\n\", relatorio_classificacao_arvore)\n",
        "\n",
        "# Exibir a Matriz de Confusão\n",
        "print(\"Matriz de Confusão da Árvore de Decisão:\\n\", matriz_confusao_arvore)\n",
        "\n",
        "# Visualizar a Matriz de Confusão com Seaborn\n",
        "plt.figure(figsize=(10, 7))\n",
        "sns.heatmap(matriz_confusao_arvore, annot=True, fmt='d', cmap='Blues',\n",
        "            xticklabels=np.unique(y_test), yticklabels=np.unique(y_test))\n",
        "plt.xlabel('Previsões')\n",
        "plt.ylabel('Valores Reais')\n",
        "plt.title('Matriz de Confusão da Árvore de Decisão')\n",
        "plt.show()\n",
        "\n",
        "# Curva ROC e AUC (mais apropriado para problemas binários)\n",
        "# Para múltiplas classes, você pode calcular o AUC para cada classe e fazer uma média\n",
        "# Aqui calculamos a média AUC para o exemplo\n",
        "from sklearn.preprocessing import label_binarize\n",
        "from sklearn.metrics import roc_auc_score\n",
        "y_test_bin = label_binarize(y_test, classes=np.unique(y_test))\n",
        "y_pred_prob = modelo_arvore.predict_proba(X_test)\n",
        "roc_auc = roc_auc_score(y_test_bin, y_pred_prob, multi_class='ovr')\n",
        "\n",
        "print(f\"Área Sob a Curva ROC (AUC): {roc_auc:.2f}\")\n",
        "\n"
      ],
      "execution_count": null,
      "outputs": [
        {
          "output_type": "stream",
          "name": "stdout",
          "text": [
            "MSE: 0.496875\n",
            "R²: 0.22997760154973068\n",
            "Acurácia do modelo de Árvore de Decisão: 0.61\n",
            "\n",
            "Relatório de Classificação da Árvore de Decisão:\n",
            "               precision    recall  f1-score   support\n",
            "\n",
            "           3       0.00      0.00      0.00         2\n",
            "           4       0.38      0.27      0.32        11\n",
            "           5       0.69      0.68      0.69       136\n",
            "           6       0.58      0.55      0.57       128\n",
            "           7       0.54      0.65      0.59        40\n",
            "           8       0.14      0.33      0.20         3\n",
            "\n",
            "    accuracy                           0.61       320\n",
            "   macro avg       0.39      0.42      0.39       320\n",
            "weighted avg       0.61      0.61      0.61       320\n",
            "\n",
            "Matriz de Confusão da Árvore de Decisão:\n",
            " [[ 0  1  0  0  1  0]\n",
            " [ 1  3  4  3  0  0]\n",
            " [ 0  1 93 37  5  0]\n",
            " [ 0  3 34 71 15  5]\n",
            " [ 0  0  2 11 26  1]\n",
            " [ 0  0  1  0  1  1]]\n"
          ]
        },
        {
          "output_type": "display_data",
          "data": {
            "text/plain": [
              "<Figure size 1000x700 with 2 Axes>"
            ],
            "image/png": "[encoded data removed]"
          },
          "metadata": {}
        },
        {
          "output_type": "stream",
          "name": "stdout",
          "text": [
            "Área Sob a Curva ROC (AUC): 0.66\n"
          ]
        }
      ]
    },
    {
      "cell_type": "markdown",
      "metadata": {
        "id": "WdcfqtnBPuHD"
      },
      "source": [
        "Ao término da atividade você deverá enviar seu código na plataforma da turma para concluir a atividade de ensino prática."
      ]
    }
  ]
}